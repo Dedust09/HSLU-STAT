{
 "cells": [
  {
   "cell_type": "markdown",
   "metadata": {},
   "source": [
    "# SW01\n",
    "## Aufgabe 1.1\n",
    "##### a) Lesen Sie den Datensatz child.csv ein."
   ]
  },
  {
   "cell_type": "code",
   "execution_count": 49,
   "metadata": {},
   "outputs": [],
   "source": [
    "from pandas import Series,DataFrame\n",
    "import pandas as pd\n",
    "\n",
    "data = pd.read_csv(\"child.csv\", index_col=0)"
   ]
  },
  {
   "cell_type": "markdown",
   "metadata": {},
   "source": [
    "##### b) Überprüfen Sie mit dem Attribut .shape die Dimension der Daten."
   ]
  },
  {
   "cell_type": "code",
   "execution_count": 50,
   "metadata": {},
   "outputs": [
    {
     "name": "stdout",
     "output_type": "stream",
     "text": [
      "(30, 21)\n",
      "\n"
     ]
    }
   ],
   "source": [
    "print(data.shape)\n",
    "print()"
   ]
  },
  {
   "cell_type": "markdown",
   "metadata": {},
   "source": [
    "##### c) Bestimmen Sie den Mittelwert und Median der einzelnen Variablen mit dem Python-Attribut .describe()."
   ]
  },
  {
   "cell_type": "code",
   "execution_count": 51,
   "metadata": {
    "scrolled": false
   },
   "outputs": [
    {
     "name": "stdout",
     "output_type": "stream",
     "text": [
      "Mittelwert:\n",
      "Average.disposable.income         18.847713\n",
      "Children.in.poor.homes            12.372193\n",
      "Educational.Deprivation            2.673333\n",
      "Overcrowding                      31.950163\n",
      "Poor.environmental.conditions     25.217498\n",
      "Average.mean.literacy.score      496.317000\n",
      "Literacy.inequality                1.665085\n",
      "Youth.NEET.rate                    7.377778\n",
      "Low.birth.weight                   6.643333\n",
      "Infant.mortality                   5.446667\n",
      "Breastfeeding.rates               86.027586\n",
      "Vaccination.rates..pertussis.     93.775862\n",
      "Vaccination.rates.measles.        91.517241\n",
      "Physical.activity                 20.134615\n",
      "Mortality.rates                   24.598966\n",
      "Suicide.rates                      6.856272\n",
      "Smoking                           16.512500\n",
      "Drunkenness                       15.225000\n",
      "Teenage.births                    15.500000\n",
      "Bullying                          10.979167\n",
      "Liking.school                     27.172000\n",
      "dtype: float64\n",
      "\n",
      "Median:\n",
      "Average.disposable.income         21.107187\n",
      "Children.in.poor.homes            11.659053\n",
      "Educational.Deprivation            1.500000\n",
      "Overcrowding                      21.574977\n",
      "Poor.environmental.conditions     25.487116\n",
      "Average.mean.literacy.score      501.335000\n",
      "Literacy.inequality                1.682739\n",
      "Youth.NEET.rate                    6.200000\n",
      "Low.birth.weight                   6.750000\n",
      "Infant.mortality                   4.200000\n",
      "Breastfeeding.rates               91.000000\n",
      "Vaccination.rates..pertussis.     95.800000\n",
      "Vaccination.rates.measles.        94.000000\n",
      "Physical.activity                 19.300000\n",
      "Mortality.rates                   23.150000\n",
      "Suicide.rates                      6.784772\n",
      "Smoking                           16.600000\n",
      "Drunkenness                       14.550000\n",
      "Teenage.births                    10.600000\n",
      "Bullying                           9.650000\n",
      "Liking.school                     25.600000\n",
      "dtype: float64\n",
      "\n"
     ]
    }
   ],
   "source": [
    "print(\"Mittelwert:\")\n",
    "print(data.mean())\n",
    "print()\n",
    "print(\"Median:\")\n",
    "print(data.median())\n",
    "print()"
   ]
  },
  {
   "cell_type": "markdown",
   "metadata": {},
   "source": [
    "##### d) Überprüfen Sie, ob die Niederlande in der Länderliste des Datensatzes auftaucht. Gibt es auch einen Eintrag für China? Die Zeilenamen ermitteln Sie mit dem Attribut .index. Wie erhalten Sie die Spaltennamen?"
   ]
  },
  {
   "cell_type": "code",
   "execution_count": 52,
   "metadata": {},
   "outputs": [
    {
     "name": "stdout",
     "output_type": "stream",
     "text": [
      "Niederlande:\n",
      "False\n",
      "\n",
      "China:\n",
      "False\n",
      "\n",
      "Alle Spalten\n",
      "Index(['Average.disposable.income', 'Children.in.poor.homes',\n",
      "       'Educational.Deprivation', 'Overcrowding',\n",
      "       'Poor.environmental.conditions', 'Average.mean.literacy.score',\n",
      "       'Literacy.inequality', 'Youth.NEET.rate', 'Low.birth.weight',\n",
      "       'Infant.mortality', 'Breastfeeding.rates',\n",
      "       'Vaccination.rates..pertussis.', 'Vaccination.rates.measles.',\n",
      "       'Physical.activity', 'Mortality.rates', 'Suicide.rates', 'Smoking',\n",
      "       'Drunkenness', 'Teenage.births', 'Bullying', 'Liking.school'],\n",
      "      dtype='object')\n"
     ]
    }
   ],
   "source": [
    "print(\"Niederlande:\")\n",
    "print(data.index.contains(\"Niederlande\"))\n",
    "print()\n",
    "print(\"China:\")\n",
    "print(data.index.contains(\"China\"))\n",
    "print()\n",
    "print(\"Alle Spalten\")\n",
    "print(data.columns)"
   ]
  },
  {
   "cell_type": "markdown",
   "metadata": {},
   "source": [
    "##### e) In welchen fünf Ländern waren die meisten Jugendlichen mindestens zweimal betrunken? Wie hoch ist der maximale Prozentsatz? Benützen Sie die Methode .sort_values(by=..., ascending=...)."
   ]
  },
  {
   "cell_type": "code",
   "execution_count": 53,
   "metadata": {},
   "outputs": [
    {
     "name": "stdout",
     "output_type": "stream",
     "text": [
      "Denmark            24.8\n",
      "Finland            22.4\n",
      "United Kingdom     22.1\n",
      "Poland             19.9\n",
      "Canada             18.8\n",
      "Austria            18.6\n",
      "Hungary            17.7\n",
      "Czech Republic     16.8\n",
      "Slovak Republic    16.8\n",
      "Ireland            16.3\n",
      "Spain              16.1\n",
      "Germany            15.1\n",
      "Norway             14.0\n",
      "Belgium            13.9\n",
      "Sweden             13.8\n",
      "Netherlands        12.1\n",
      "Luxembourg         11.7\n",
      "Switzerland        11.4\n",
      "France             11.2\n",
      "Portugal           10.9\n",
      "Iceland            10.5\n",
      "Greece             10.3\n",
      "United States      10.2\n",
      "Italy              10.0\n",
      "Australia           NaN\n",
      "Japan               NaN\n",
      "Korea               NaN\n",
      "Mexico              NaN\n",
      "New Zealand         NaN\n",
      "Turkey              NaN\n",
      "Name: Drunkenness, dtype: float64\n"
     ]
    }
   ],
   "source": [
    "print(data.Drunkenness.sort_values(ascending=False))"
   ]
  },
  {
   "cell_type": "markdown",
   "metadata": {},
   "source": [
    "##### f) In welchem Land ist die Säuglingssterblichkeit am geringsten? Wie hoch ist sie in diesem Land? Benützen Sie die Methode .nsmallest(...)."
   ]
  },
  {
   "cell_type": "code",
   "execution_count": 54,
   "metadata": {},
   "outputs": [
    {
     "name": "stdout",
     "output_type": "stream",
     "text": [
      "Iceland       2.3\n",
      "Sweden        2.4\n",
      "Luxembourg    2.6\n",
      "Name: Infant.mortality, dtype: float64\n"
     ]
    }
   ],
   "source": [
    "print(data['Infant.mortality'].nsmallest(3))"
   ]
  },
  {
   "cell_type": "markdown",
   "metadata": {},
   "source": [
    "##### g) In welchen Ländern ist der Prozentsatz an Jugendlichen, die sich regelmässig bewegen, kleiner als der Durchschnitt? Benützen Sie das Attribut .loc[... < ..., :]"
   ]
  },
  {
   "cell_type": "code",
   "execution_count": 66,
   "metadata": {},
   "outputs": [
    {
     "name": "stdout",
     "output_type": "stream",
     "text": [
      "                Physical.activity\n",
      "Austria                      19.6\n",
      "Belgium                      19.1\n",
      "France                       13.5\n",
      "Germany                      17.0\n",
      "Greece                       15.5\n",
      "Hungary                      19.5\n",
      "Italy                        15.1\n",
      "Luxembourg                   15.2\n",
      "Mexico                       18.1\n",
      "Norway                       15.6\n",
      "Poland                       17.3\n",
      "Portugal                     14.6\n",
      "Sweden                       16.4\n",
      "Switzerland                  13.1\n",
      "Turkey                       20.0\n",
      "United Kingdom               18.7\n"
     ]
    }
   ],
   "source": [
    "print(data.loc[data['Physical.activity'] < data['Physical.activity'].mean(), ['Physical.activity']])"
   ]
  },
  {
   "cell_type": "markdown",
   "metadata": {},
   "source": [
    "## Aufgabe 1.2\n",
    "##### a) Lesen Sie die auf Ilias abgelegte Datei d.fuel.dat ein."
   ]
  },
  {
   "cell_type": "code",
   "execution_count": 68,
   "metadata": {},
   "outputs": [],
   "source": [
    "fuel = pd.read_csv(\"d.fuel.dat\", sep=\",\", index_col=0)"
   ]
  },
  {
   "cell_type": "markdown",
   "metadata": {},
   "source": [
    "##### b) Wählen Sie nur die fünfte Zeile des Dataframe d.fuel aus. Welche Werte stehen in der fünften Zeile? Verwenden Sie das Attribut .loc (siehe Aufgabe 1))."
   ]
  },
  {
   "cell_type": "code",
   "execution_count": 71,
   "metadata": {},
   "outputs": [
    {
     "name": "stdout",
     "output_type": "stream",
     "text": [
      "weight     2440\n",
      "mpg          32\n",
      "type      Small\n",
      "Name: 5, dtype: object\n"
     ]
    }
   ],
   "source": [
    "print(fuel.loc[5])"
   ]
  },
  {
   "cell_type": "markdown",
   "metadata": {},
   "source": [
    "#### c) Wählen Sie nun die erste bis fünfte Beobachtung des Datensatzes aus. So lässt sich übrigens bei einem unbekannten Datensatz ein schneller Überblick über die Art des Dataframe gewinnen."
   ]
  },
  {
   "cell_type": "code",
   "execution_count": 80,
   "metadata": {},
   "outputs": [
    {
     "name": "stdout",
     "output_type": "stream",
     "text": [
      "   weight  mpg   type\n",
      "X                    \n",
      "1    2560   33  Small\n",
      "2    2345   33  Small\n",
      "3    1845   37  Small\n",
      "4    2260   32  Small\n",
      "5    2440   32  Small\n"
     ]
    }
   ],
   "source": [
    "print(fuel.loc[1:5])"
   ]
  },
  {
   "cell_type": "markdown",
   "metadata": {},
   "source": [
    "##### d) Berechnen Sie den Mittelwert der Reichweiten aller Autos in Miles/Gallon.\n",
    "Python -Hinweis: Methode .mean()"
   ]
  },
  {
   "cell_type": "code",
   "execution_count": 77,
   "metadata": {},
   "outputs": [
    {
     "name": "stdout",
     "output_type": "stream",
     "text": [
      "24.583333333333332\n"
     ]
    }
   ],
   "source": [
    "print(fuel.mpg.mean())"
   ]
  },
  {
   "cell_type": "markdown",
   "metadata": {},
   "source": [
    "##### e) Berechnen Sie den Mittelwert der Reichweite der Autos 7 bis 22."
   ]
  },
  {
   "cell_type": "code",
   "execution_count": 81,
   "metadata": {},
   "outputs": [
    {
     "name": "stdout",
     "output_type": "stream",
     "text": [
      "27.75\n"
     ]
    }
   ],
   "source": [
    "print(fuel.mpg.loc[7:22].mean())"
   ]
  },
  {
   "cell_type": "markdown",
   "metadata": {},
   "source": [
    "##### f) Erzeugen Sie einen neuen Vektor t_kml, der alle Reichweiten in km/l, und einen Vektor t_kg, der alle Gewichte in kg enthält."
   ]
  },
  {
   "cell_type": "code",
   "execution_count": 85,
   "metadata": {},
   "outputs": [
    {
     "name": "stdout",
     "output_type": "stream",
     "text": [
      "   weight  mpg   type       t_kml        t_kg\n",
      "X                                            \n",
      "1    2560   33  Small  201.222044  1161.19040\n",
      "2    2345   33  Small  201.222044  1063.66855\n",
      "3    1845   37  Small  225.612595   836.87355\n",
      "4    2260   32  Small  195.124406  1025.11340\n",
      "5    2440   32  Small  195.124406  1106.75960\n"
     ]
    }
   ],
   "source": [
    "fuel['t_kml'] = fuel.apply(lambda row: (row.mpg * 3.789 * 1.6093), axis=1)\n",
    "fuel['t_kg'] = fuel.apply(lambda row : (row.weight * 0.45359), axis=1)\n",
    "print(fuel.loc[1:5])"
   ]
  },
  {
   "cell_type": "markdown",
   "metadata": {},
   "source": [
    "##### g) Berechnen Sie den Mittelwert der Reichweiten in km/l und denjenigen der Fahrzeuggewichte in kg."
   ]
  },
  {
   "cell_type": "code",
   "execution_count": 86,
   "metadata": {},
   "outputs": [
    {
     "name": "stdout",
     "output_type": "stream",
     "text": [
      "km/l\n",
      "149.90026012499996\n",
      "kg\n",
      "1315.7889916666668\n"
     ]
    }
   ],
   "source": [
    "print(\"km/l\")\n",
    "print(fuel.t_kml.mean())\n",
    "print(\"kg\")\n",
    "print(fuel.t_kg.mean())"
   ]
  },
  {
   "cell_type": "code",
   "execution_count": null,
   "metadata": {},
   "outputs": [],
   "source": []
  }
 ],
 "metadata": {
  "kernelspec": {
   "display_name": "Python 3",
   "language": "python",
   "name": "python3"
  },
  "language_info": {
   "codemirror_mode": {
    "name": "ipython",
    "version": 3
   },
   "file_extension": ".py",
   "mimetype": "text/x-python",
   "name": "python",
   "nbconvert_exporter": "python",
   "pygments_lexer": "ipython3",
   "version": "3.7.0"
  }
 },
 "nbformat": 4,
 "nbformat_minor": 2
}
