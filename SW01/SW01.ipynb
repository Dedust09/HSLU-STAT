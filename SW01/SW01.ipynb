{
 "cells": [
  {
   "cell_type": "markdown",
   "metadata": {},
   "source": [
    "# SW01\n",
    "## Aufgabe 1.1\n",
    "##### a) Lesen Sie den Datensatz child.csv ein."
   ]
  },
  {
   "cell_type": "code",
   "execution_count": 2,
   "metadata": {},
   "outputs": [],
   "source": [
    "from pandas import Series,DataFrame\n",
    "import pandas as pd\n",
    "\n",
    "data = pd.read_csv(\"child.csv\", index_col=0)"
   ]
  },
  {
   "cell_type": "markdown",
   "metadata": {},
   "source": [
    "##### b) Überprüfen Sie mit dem Attribut .shape die Dimension der Daten."
   ]
  },
  {
   "cell_type": "code",
   "execution_count": 3,
   "metadata": {},
   "outputs": [
    {
     "name": "stdout",
     "output_type": "stream",
     "text": [
      "(30, 21)\n",
      "\n"
     ]
    }
   ],
   "source": [
    "print(data.shape)\n",
    "print()"
   ]
  },
  {
   "cell_type": "markdown",
   "metadata": {},
   "source": [
    "##### c) Bestimmen Sie den Mittelwert und Median der einzelnen Variablen mit dem Python-Attribut .describe()."
   ]
  },
  {
   "cell_type": "code",
   "execution_count": 4,
   "metadata": {
    "scrolled": false
   },
   "outputs": [
    {
     "name": "stdout",
     "output_type": "stream",
     "text": [
      "Mittelwert:\n",
      "Average.disposable.income         18.847713\n",
      "Children.in.poor.homes            12.372193\n",
      "Educational.Deprivation            2.673333\n",
      "Overcrowding                      31.950163\n",
      "Poor.environmental.conditions     25.217498\n",
      "Average.mean.literacy.score      496.317000\n",
      "Literacy.inequality                1.665085\n",
      "Youth.NEET.rate                    7.377778\n",
      "Low.birth.weight                   6.643333\n",
      "Infant.mortality                   5.446667\n",
      "Breastfeeding.rates               86.027586\n",
      "Vaccination.rates..pertussis.     93.775862\n",
      "Vaccination.rates.measles.        91.517241\n",
      "Physical.activity                 20.134615\n",
      "Mortality.rates                   24.598966\n",
      "Suicide.rates                      6.856272\n",
      "Smoking                           16.512500\n",
      "Drunkenness                       15.225000\n",
      "Teenage.births                    15.500000\n",
      "Bullying                          10.979167\n",
      "Liking.school                     27.172000\n",
      "dtype: float64\n",
      "\n",
      "Median:\n",
      "Average.disposable.income         21.107187\n",
      "Children.in.poor.homes            11.659053\n",
      "Educational.Deprivation            1.500000\n",
      "Overcrowding                      21.574977\n",
      "Poor.environmental.conditions     25.487116\n",
      "Average.mean.literacy.score      501.335000\n",
      "Literacy.inequality                1.682739\n",
      "Youth.NEET.rate                    6.200000\n",
      "Low.birth.weight                   6.750000\n",
      "Infant.mortality                   4.200000\n",
      "Breastfeeding.rates               91.000000\n",
      "Vaccination.rates..pertussis.     95.800000\n",
      "Vaccination.rates.measles.        94.000000\n",
      "Physical.activity                 19.300000\n",
      "Mortality.rates                   23.150000\n",
      "Suicide.rates                      6.784772\n",
      "Smoking                           16.600000\n",
      "Drunkenness                       14.550000\n",
      "Teenage.births                    10.600000\n",
      "Bullying                           9.650000\n",
      "Liking.school                     25.600000\n",
      "dtype: float64\n",
      "\n"
     ]
    }
   ],
   "source": [
    "print(\"Mittelwert:\")\n",
    "print(data.mean())\n",
    "print(\"\\nMedian:\")\n",
    "print(data.median())\n",
    "print()"
   ]
  },
  {
   "cell_type": "markdown",
   "metadata": {},
   "source": [
    "##### d) Überprüfen Sie, ob die Niederlande in der Länderliste des Datensatzes auftaucht. Gibt es auch einen Eintrag für China? Die Zeilenamen ermitteln Sie mit dem Attribut .index. Wie erhalten Sie die Spaltennamen?"
   ]
  },
  {
   "cell_type": "code",
   "execution_count": 5,
   "metadata": {},
   "outputs": [
    {
     "name": "stdout",
     "output_type": "stream",
     "text": [
      "Niederlande:\n",
      "False\n",
      "\n",
      "China:\n",
      "False\n",
      "\n",
      "Alle Spalten\n",
      "Index(['Average.disposable.income', 'Children.in.poor.homes',\n",
      "       'Educational.Deprivation', 'Overcrowding',\n",
      "       'Poor.environmental.conditions', 'Average.mean.literacy.score',\n",
      "       'Literacy.inequality', 'Youth.NEET.rate', 'Low.birth.weight',\n",
      "       'Infant.mortality', 'Breastfeeding.rates',\n",
      "       'Vaccination.rates..pertussis.', 'Vaccination.rates.measles.',\n",
      "       'Physical.activity', 'Mortality.rates', 'Suicide.rates', 'Smoking',\n",
      "       'Drunkenness', 'Teenage.births', 'Bullying', 'Liking.school'],\n",
      "      dtype='object')\n"
     ]
    }
   ],
   "source": [
    "print(\"Niederlande:\")\n",
    "print(data.index.contains(\"Niederlande\"))\n",
    "print(\"\\nChina:\")\n",
    "print(data.index.contains(\"China\"))\n",
    "print(\"\\nAlle Spalten\")\n",
    "print(data.columns)"
   ]
  },
  {
   "cell_type": "markdown",
   "metadata": {},
   "source": [
    "##### e) In welchen fünf Ländern waren die meisten Jugendlichen mindestens zweimal betrunken? Wie hoch ist der maximale Prozentsatz? Benützen Sie die Methode .sort_values(by=..., ascending=...)."
   ]
  },
  {
   "cell_type": "code",
   "execution_count": 6,
   "metadata": {},
   "outputs": [
    {
     "name": "stdout",
     "output_type": "stream",
     "text": [
      "Denmark            24.8\n",
      "Finland            22.4\n",
      "United Kingdom     22.1\n",
      "Poland             19.9\n",
      "Canada             18.8\n",
      "Austria            18.6\n",
      "Hungary            17.7\n",
      "Czech Republic     16.8\n",
      "Slovak Republic    16.8\n",
      "Ireland            16.3\n",
      "Spain              16.1\n",
      "Germany            15.1\n",
      "Norway             14.0\n",
      "Belgium            13.9\n",
      "Sweden             13.8\n",
      "Netherlands        12.1\n",
      "Luxembourg         11.7\n",
      "Switzerland        11.4\n",
      "France             11.2\n",
      "Portugal           10.9\n",
      "Iceland            10.5\n",
      "Greece             10.3\n",
      "United States      10.2\n",
      "Italy              10.0\n",
      "Australia           NaN\n",
      "Japan               NaN\n",
      "Korea               NaN\n",
      "Mexico              NaN\n",
      "New Zealand         NaN\n",
      "Turkey              NaN\n",
      "Name: Drunkenness, dtype: float64\n"
     ]
    }
   ],
   "source": [
    "print(data.Drunkenness.sort_values(ascending=False))"
   ]
  },
  {
   "cell_type": "markdown",
   "metadata": {},
   "source": [
    "##### f) In welchem Land ist die Säuglingssterblichkeit am geringsten? Wie hoch ist sie in diesem Land? Benützen Sie die Methode .nsmallest(...)."
   ]
  },
  {
   "cell_type": "code",
   "execution_count": 7,
   "metadata": {},
   "outputs": [
    {
     "name": "stdout",
     "output_type": "stream",
     "text": [
      "Iceland       2.3\n",
      "Sweden        2.4\n",
      "Luxembourg    2.6\n",
      "Name: Infant.mortality, dtype: float64\n"
     ]
    }
   ],
   "source": [
    "print(data['Infant.mortality'].nsmallest(3))"
   ]
  },
  {
   "cell_type": "markdown",
   "metadata": {},
   "source": [
    "##### g) In welchen Ländern ist der Prozentsatz an Jugendlichen, die sich regelmässig bewegen, kleiner als der Durchschnitt? Benützen Sie das Attribut .loc[... < ..., :]"
   ]
  },
  {
   "cell_type": "code",
   "execution_count": 8,
   "metadata": {},
   "outputs": [
    {
     "name": "stdout",
     "output_type": "stream",
     "text": [
      "                Physical.activity\n",
      "Austria                      19.6\n",
      "Belgium                      19.1\n",
      "France                       13.5\n",
      "Germany                      17.0\n",
      "Greece                       15.5\n",
      "Hungary                      19.5\n",
      "Italy                        15.1\n",
      "Luxembourg                   15.2\n",
      "Mexico                       18.1\n",
      "Norway                       15.6\n",
      "Poland                       17.3\n",
      "Portugal                     14.6\n",
      "Sweden                       16.4\n",
      "Switzerland                  13.1\n",
      "Turkey                       20.0\n",
      "United Kingdom               18.7\n"
     ]
    }
   ],
   "source": [
    "print(data.loc[data['Physical.activity'] < data['Physical.activity'].mean(), ['Physical.activity']])"
   ]
  },
  {
   "cell_type": "markdown",
   "metadata": {},
   "source": [
    "## Aufgabe 1.2\n",
    "##### a) Lesen Sie die auf Ilias abgelegte Datei d.fuel.dat ein."
   ]
  },
  {
   "cell_type": "code",
   "execution_count": 9,
   "metadata": {},
   "outputs": [],
   "source": [
    "fuel = pd.read_csv(\"d.fuel.dat\", sep=\",\", index_col=0)"
   ]
  },
  {
   "cell_type": "markdown",
   "metadata": {},
   "source": [
    "##### b) Wählen Sie nur die fünfte Zeile des Dataframe d.fuel aus. Welche Werte stehen in der fünften Zeile? Verwenden Sie das Attribut .loc (siehe Aufgabe 1))."
   ]
  },
  {
   "cell_type": "code",
   "execution_count": 10,
   "metadata": {},
   "outputs": [
    {
     "name": "stdout",
     "output_type": "stream",
     "text": [
      "weight     2440\n",
      "mpg          32\n",
      "type      Small\n",
      "Name: 5, dtype: object\n"
     ]
    }
   ],
   "source": [
    "print(fuel.loc[5])"
   ]
  },
  {
   "cell_type": "markdown",
   "metadata": {},
   "source": [
    "#### c) Wählen Sie nun die erste bis fünfte Beobachtung des Datensatzes aus. So lässt sich übrigens bei einem unbekannten Datensatz ein schneller Überblick über die Art des Dataframe gewinnen."
   ]
  },
  {
   "cell_type": "code",
   "execution_count": 11,
   "metadata": {},
   "outputs": [
    {
     "name": "stdout",
     "output_type": "stream",
     "text": [
      "   weight  mpg   type\n",
      "X                    \n",
      "1    2560   33  Small\n",
      "2    2345   33  Small\n",
      "3    1845   37  Small\n",
      "4    2260   32  Small\n",
      "5    2440   32  Small\n"
     ]
    }
   ],
   "source": [
    "print(fuel.loc[1:5])"
   ]
  },
  {
   "cell_type": "markdown",
   "metadata": {},
   "source": [
    "##### d) Berechnen Sie den Mittelwert der Reichweiten aller Autos in Miles/Gallon.\n",
    "Python -Hinweis: Methode .mean()"
   ]
  },
  {
   "cell_type": "code",
   "execution_count": 12,
   "metadata": {},
   "outputs": [
    {
     "name": "stdout",
     "output_type": "stream",
     "text": [
      "24.583333333333332\n"
     ]
    }
   ],
   "source": [
    "print(fuel.mpg.mean())"
   ]
  },
  {
   "cell_type": "markdown",
   "metadata": {},
   "source": [
    "##### e) Berechnen Sie den Mittelwert der Reichweite der Autos 7 bis 22."
   ]
  },
  {
   "cell_type": "code",
   "execution_count": 13,
   "metadata": {},
   "outputs": [
    {
     "name": "stdout",
     "output_type": "stream",
     "text": [
      "27.75\n"
     ]
    }
   ],
   "source": [
    "print(fuel.mpg.loc[7:22].mean())"
   ]
  },
  {
   "cell_type": "markdown",
   "metadata": {},
   "source": [
    "##### f) Erzeugen Sie einen neuen Vektor t_kml, der alle Reichweiten in km/l, und einen Vektor t_kg, der alle Gewichte in kg enthält."
   ]
  },
  {
   "cell_type": "code",
   "execution_count": 14,
   "metadata": {},
   "outputs": [
    {
     "name": "stdout",
     "output_type": "stream",
     "text": [
      "   weight  mpg   type       t_kml        t_kg\n",
      "X                                            \n",
      "1    2560   33  Small  201.222044  1161.19040\n",
      "2    2345   33  Small  201.222044  1063.66855\n",
      "3    1845   37  Small  225.612595   836.87355\n",
      "4    2260   32  Small  195.124406  1025.11340\n",
      "5    2440   32  Small  195.124406  1106.75960\n"
     ]
    }
   ],
   "source": [
    "fuel['t_kml'] = fuel.apply(lambda row: (row.mpg * 3.789 * 1.6093), axis=1)\n",
    "fuel['t_kg'] = fuel.apply(lambda row : (row.weight * 0.45359), axis=1)\n",
    "print(fuel.loc[1:5])"
   ]
  },
  {
   "cell_type": "markdown",
   "metadata": {},
   "source": [
    "##### g) Berechnen Sie den Mittelwert der Reichweiten in km/l und denjenigen der Fahrzeuggewichte in kg."
   ]
  },
  {
   "cell_type": "code",
   "execution_count": 15,
   "metadata": {},
   "outputs": [
    {
     "name": "stdout",
     "output_type": "stream",
     "text": [
      "km/l\n",
      "149.90026012499996\n",
      "\n",
      "kg\n",
      "1315.7889916666668\n"
     ]
    }
   ],
   "source": [
    "print(\"km/l\")\n",
    "print(fuel.t_kml.mean())\n",
    "print(\"\\nkg\")\n",
    "print(fuel.t_kg.mean())"
   ]
  },
  {
   "cell_type": "markdown",
   "metadata": {},
   "source": [
    "## Aufgabe 1.3\n",
    "##### a) Berechnen Sie die Summen und Summen im Quadrat .\n",
    "Python -Hinweis: Verwenden Sie die Methode .sum()"
   ]
  },
  {
   "cell_type": "code",
   "execution_count": 16,
   "metadata": {},
   "outputs": [
    {
     "name": "stdout",
     "output_type": "stream",
     "text": [
      "Summe\n",
      "269.1\n",
      "\n",
      "Summe im Quadrat\n",
      "5729.27\n"
     ]
    }
   ],
   "source": [
    "land = pd.DataFrame([2.1,2.4,2.8,3.1,4.2,4.9,5.1,6.0,6.4,7.3,10.8,12.5,13.0,13.7,14.8,17.6,19.6,\n",
    "23.0,25.0,35.2,39.6], columns=['ha'])\n",
    "land['ha2'] = land.apply(lambda row: (row.ha * row.ha), axis=1)\n",
    "print(\"Summe\")\n",
    "print(land.ha.sum())\n",
    "print(\"\\nSumme im Quadrat\")\n",
    "print(land.ha2.sum())"
   ]
  },
  {
   "cell_type": "markdown",
   "metadata": {},
   "source": [
    "##### b) Berechnen Sie denMittelwert und die Standardabweichung (ohne die in pandas implementierten Funktionen, sondern aufgrund der Definition der Grössen).\n",
    "Python -Hinweis: Verwenden Sie die Methode .size()"
   ]
  },
  {
   "cell_type": "code",
   "execution_count": 17,
   "metadata": {},
   "outputs": [
    {
     "name": "stdout",
     "output_type": "stream",
     "text": [
      "Menge an Datensätzen\n",
      "21\n",
      "\n",
      "Mittelwert\n",
      "12.814285714285715\n",
      "\n",
      "Standardabweichung\n",
      "10.679292378911898\n"
     ]
    }
   ],
   "source": [
    "import math\n",
    "print(\"Menge an Datensätzen\")\n",
    "print(land.ha.size)\n",
    "print(\"\\nMittelwert\")\n",
    "print(land.ha.sum() / land.ha.size)\n",
    "print(\"\\nStandardabweichung\")\n",
    "land['hammit2'] = land.apply(lambda row: ((row.ha - (land.ha.sum() / land.ha.size)) * (row.ha - (land.ha.sum() / land.ha.size))), axis=1)\n",
    "print(math.sqrt(land.hammit2.sum() / (land.ha.size - 1)))"
   ]
  },
  {
   "cell_type": "markdown",
   "metadata": {},
   "source": [
    "##### c) Bestimmen Sie denMedian (ohne die in pandas implementierte Funktion, sondern aufgrund der Definition der Grössen).\n",
    "Python -Hinweis: Verwenden Sie zum Sortieren die Methode .sort_values() und den Befehl np.round() zum Runden."
   ]
  },
  {
   "cell_type": "code",
   "execution_count": 18,
   "metadata": {},
   "outputs": [
    {
     "name": "stdout",
     "output_type": "stream",
     "text": [
      "Median\n",
      "10.8\n"
     ]
    }
   ],
   "source": [
    "import numpy as np\n",
    "print(\"Median\")\n",
    "print(land.ha.sort_values().loc[np.round(land.ha.size / 2)])"
   ]
  },
  {
   "cell_type": "markdown",
   "metadata": {},
   "source": [
    "##### d) Bestimmen Sie nun Mittelwert, Standardabweichung, Median und das 75% Quantil mit den Methoden .mean(), .std(), .median()."
   ]
  },
  {
   "cell_type": "code",
   "execution_count": 19,
   "metadata": {},
   "outputs": [
    {
     "name": "stdout",
     "output_type": "stream",
     "text": [
      "Mittelwert\n",
      "12.814285714285715\n",
      "\n",
      "Standardabweichung\n",
      "10.679292378911898\n",
      "\n",
      "Median\n",
      "10.8\n",
      "\n",
      "75% Quantil\n",
      "17.6\n"
     ]
    }
   ],
   "source": [
    "print(\"Mittelwert\")\n",
    "print(land.ha.mean())\n",
    "print(\"\\nStandardabweichung\")\n",
    "print(land.ha.std())\n",
    "print(\"\\nMedian\")\n",
    "print(land.ha.median())\n",
    "print(\"\\n75% Quantil\")\n",
    "print(land.ha.quantile(q=.75, interpolation=\"midpoint\"))"
   ]
  },
  {
   "cell_type": "markdown",
   "metadata": {},
   "source": [
    "## Aufgabe 1.4\n",
    "Der Geysir Old Faithful im Yellowstone National Park ist eine der bekanntesten heissen Quellen. Für die Zuschauer und den Nationalparkdienst ist die Zeitspanne zwischen zwei Ausbrüchen und die Eruptionsdauer von grossem Interesse. Auf Ilias\n",
    "sind die Messungen in der Datei geysir.dat vom 1.8.1978 - 8.8.1978 in 3 Spalten\n",
    "abgelegt: Tag, Zeitspanne und Eruptionsdauer.\n",
    "##### a) Zeichnen Sie Histogramme von der Zeitspanne zwischen zwei Ausbrüchen."
   ]
  },
  {
   "cell_type": "code",
   "execution_count": 20,
   "metadata": {},
   "outputs": [
    {
     "data": {
      "image/png": "[encoded data removed]",
      "text/plain": [
       "<Figure size 432x288 with 3 Axes>"
      ]
     },
     "metadata": {
      "needs_background": "light"
     },
     "output_type": "display_data"
    }
   ],
   "source": [
    "import matplotlib.pyplot as plt\n",
    "\n",
    "geysir = pd.read_csv(\"geysir.dat\", sep=\" \", index_col=0)\n",
    "\n",
    "plt.subplot(221)\n",
    "geysir[\"Zeitspanne\"].plot(kind=\"hist\", edgecolor=\"black\")\n",
    "plt.xlabel(\"10 Klassen\")\n",
    "\n",
    "plt.subplot(222)\n",
    "geysir[\"Zeitspanne\"].plot(kind=\"hist\",\n",
    "bins=20,\n",
    "edgecolor=\"black\")\n",
    "plt.xlabel(\"20 Klassen\")\n",
    "\n",
    "plt.subplot(223)\n",
    "geysir[\"Zeitspanne\"].plot(kind=\"hist\",\n",
    "bins=np.arange(41,107,11),\n",
    "edgecolor=\"black\")\n",
    "plt.xlabel(\"Klassengrenzen 41, 52 , 63, 74 , 85, 96\")\n",
    "\n",
    "plt.show()"
   ]
  },
  {
   "cell_type": "markdown",
   "metadata": {},
   "source": [
    "##### b) Zeichnen Sie Histogramme (Anzahl Klassen variieren) von der Eruptionsdauer:"
   ]
  },
  {
   "cell_type": "code",
   "execution_count": 21,
   "metadata": {},
   "outputs": [
    {
     "data": {
      "text/plain": [
       "<matplotlib.axes._subplots.AxesSubplot at 0x1168104bda0>"
      ]
     },
     "execution_count": 21,
     "metadata": {},
     "output_type": "execute_result"
    },
    {
     "data": {
      "image/png": "[encoded data removed]",
      "text/plain": [
       "<Figure size 432x288 with 1 Axes>"
      ]
     },
     "metadata": {
      "needs_background": "light"
     },
     "output_type": "display_data"
    }
   ],
   "source": [
    "geysir[\"Eruptionsdauer\"].plot(kind=\"hist\")"
   ]
  },
  {
   "cell_type": "markdown",
   "metadata": {},
   "source": [
    "##### c) Zeichnen Sie die empirische kumulative Verteilungsfunktion von der Eruptionsdauer von Old Faithful Geysir. Untersuchen Sie, wie viel Prozent der Eruptionen höchstens 2 Minuten gedauert haben, sowie welche Eruptionsdauer der 60% Eruptionen, die am längsten gedauert haben, mindestens gedauert haben."
   ]
  },
  {
   "cell_type": "code",
   "execution_count": 22,
   "metadata": {},
   "outputs": [
    {
     "data": {
      "text/plain": [
       "<matplotlib.axes._subplots.AxesSubplot at 0x116814f7dd8>"
      ]
     },
     "execution_count": 22,
     "metadata": {},
     "output_type": "execute_result"
    },
    {
     "data": {
      "image/png": "[encoded data removed]",
      "text/plain": [
       "<Figure size 432x288 with 1 Axes>"
      ]
     },
     "metadata": {
      "needs_background": "light"
     },
     "output_type": "display_data"
    }
   ],
   "source": [
    "geysir[\"Eruptionsdauer\"].plot(kind=\"hist\", density=True, cumulative=True)"
   ]
  }
 ],
 "metadata": {
  "kernelspec": {
   "display_name": "Python 3",
   "language": "python",
   "name": "python3"
  },
  "language_info": {
   "codemirror_mode": {
    "name": "ipython",
    "version": 3
   },
   "file_extension": ".py",
   "mimetype": "text/x-python",
   "name": "python",
   "nbconvert_exporter": "python",
   "pygments_lexer": "ipython3",
   "version": "3.7.3"
  }
 },
 "nbformat": 4,
 "nbformat_minor": 2
}
