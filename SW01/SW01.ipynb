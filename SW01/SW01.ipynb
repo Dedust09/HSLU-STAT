{
 "cells": [
  {
   "cell_type": "markdown",
   "metadata": {},
   "source": [
    "# SW01\n",
    "## Aufgabe 1.1\n",
    "### a)"
   ]
  },
  {
   "cell_type": "code",
   "execution_count": 14,
   "metadata": {},
   "outputs": [],
   "source": [
    "from pandas import Series,DataFrame\n",
    "import pandas as pd\n",
    "\n",
    "data = pd.read_csv(\"child.csv\", index_col=0)"
   ]
  },
  {
   "cell_type": "markdown",
   "metadata": {},
   "source": [
    "### b)"
   ]
  },
  {
   "cell_type": "code",
   "execution_count": 17,
   "metadata": {},
   "outputs": [
    {
     "name": "stdout",
     "output_type": "stream",
     "text": [
      "(30, 21)\n",
      "\n"
     ]
    }
   ],
   "source": [
    "print(data.shape)\n",
    "print()"
   ]
  },
  {
   "cell_type": "markdown",
   "metadata": {},
   "source": [
    "### c)"
   ]
  },
  {
   "cell_type": "code",
   "execution_count": 16,
   "metadata": {},
   "outputs": [
    {
     "name": "stdout",
     "output_type": "stream",
     "text": [
      "Mittelwert:\n",
      "Average.disposable.income         18.847713\n",
      "Children.in.poor.homes            12.372193\n",
      "Educational.Deprivation            2.673333\n",
      "Overcrowding                      31.950163\n",
      "Poor.environmental.conditions     25.217498\n",
      "Average.mean.literacy.score      496.317000\n",
      "Literacy.inequality                1.665085\n",
      "Youth.NEET.rate                    7.377778\n",
      "Low.birth.weight                   6.643333\n",
      "Infant.mortality                   5.446667\n",
      "Breastfeeding.rates               86.027586\n",
      "Vaccination.rates..pertussis.     93.775862\n",
      "Vaccination.rates.measles.        91.517241\n",
      "Physical.activity                 20.134615\n",
      "Mortality.rates                   24.598966\n",
      "Suicide.rates                      6.856272\n",
      "Smoking                           16.512500\n",
      "Drunkenness                       15.225000\n",
      "Teenage.births                    15.500000\n",
      "Bullying                          10.979167\n",
      "Liking.school                     27.172000\n",
      "dtype: float64\n",
      "\n",
      "Median:\n",
      "Average.disposable.income         21.107187\n",
      "Children.in.poor.homes            11.659053\n",
      "Educational.Deprivation            1.500000\n",
      "Overcrowding                      21.574977\n",
      "Poor.environmental.conditions     25.487116\n",
      "Average.mean.literacy.score      501.335000\n",
      "Literacy.inequality                1.682739\n",
      "Youth.NEET.rate                    6.200000\n",
      "Low.birth.weight                   6.750000\n",
      "Infant.mortality                   4.200000\n",
      "Breastfeeding.rates               91.000000\n",
      "Vaccination.rates..pertussis.     95.800000\n",
      "Vaccination.rates.measles.        94.000000\n",
      "Physical.activity                 19.300000\n",
      "Mortality.rates                   23.150000\n",
      "Suicide.rates                      6.784772\n",
      "Smoking                           16.600000\n",
      "Drunkenness                       14.550000\n",
      "Teenage.births                    10.600000\n",
      "Bullying                           9.650000\n",
      "Liking.school                     25.600000\n",
      "dtype: float64\n",
      "\n"
     ]
    }
   ],
   "source": [
    "print(\"Mittelwert:\")\n",
    "print(data.mean())\n",
    "print()\n",
    "print(\"Median:\")\n",
    "print(data.median())\n",
    "print()"
   ]
  },
  {
   "cell_type": "markdown",
   "metadata": {},
   "source": [
    "### d)"
   ]
  },
  {
   "cell_type": "code",
   "execution_count": 29,
   "metadata": {},
   "outputs": [
    {
     "name": "stdout",
     "output_type": "stream",
     "text": [
      "Niederlande:\n",
      "False\n",
      "\n",
      "China:\n",
      "False\n",
      "\n",
      "Alle Spalten\n",
      "Index(['Average.disposable.income', 'Children.in.poor.homes',\n",
      "       'Educational.Deprivation', 'Overcrowding',\n",
      "       'Poor.environmental.conditions', 'Average.mean.literacy.score',\n",
      "       'Literacy.inequality', 'Youth.NEET.rate', 'Low.birth.weight',\n",
      "       'Infant.mortality', 'Breastfeeding.rates',\n",
      "       'Vaccination.rates..pertussis.', 'Vaccination.rates.measles.',\n",
      "       'Physical.activity', 'Mortality.rates', 'Suicide.rates', 'Smoking',\n",
      "       'Drunkenness', 'Teenage.births', 'Bullying', 'Liking.school'],\n",
      "      dtype='object')\n"
     ]
    }
   ],
   "source": [
    "print(\"Niederlande:\")\n",
    "print(data.index.contains(\"Niederlande\"))\n",
    "print()\n",
    "print(\"China:\")\n",
    "print(data.index.contains(\"China\"))\n",
    "print()\n",
    "print(\"Alle Spalten\")\n",
    "print(data.columns)"
   ]
  },
  {
   "cell_type": "markdown",
   "metadata": {},
   "source": [
    "### e)"
   ]
  },
  {
   "cell_type": "code",
   "execution_count": 45,
   "metadata": {},
   "outputs": [
    {
     "name": "stdout",
     "output_type": "stream",
     "text": [
      "Denmark            24.8\n",
      "Finland            22.4\n",
      "United Kingdom     22.1\n",
      "Poland             19.9\n",
      "Canada             18.8\n",
      "Austria            18.6\n",
      "Hungary            17.7\n",
      "Czech Republic     16.8\n",
      "Slovak Republic    16.8\n",
      "Ireland            16.3\n",
      "Spain              16.1\n",
      "Germany            15.1\n",
      "Norway             14.0\n",
      "Belgium            13.9\n",
      "Sweden             13.8\n",
      "Netherlands        12.1\n",
      "Luxembourg         11.7\n",
      "Switzerland        11.4\n",
      "France             11.2\n",
      "Portugal           10.9\n",
      "Iceland            10.5\n",
      "Greece             10.3\n",
      "United States      10.2\n",
      "Italy              10.0\n",
      "Australia           NaN\n",
      "Japan               NaN\n",
      "Korea               NaN\n",
      "Mexico              NaN\n",
      "New Zealand         NaN\n",
      "Turkey              NaN\n",
      "Name: Drunkenness, dtype: float64\n"
     ]
    }
   ],
   "source": [
    "print(data.Drunkenness.sort_values(ascending=False))"
   ]
  },
  {
   "cell_type": "code",
   "execution_count": null,
   "metadata": {},
   "outputs": [],
   "source": []
  }
 ],
 "metadata": {
  "kernelspec": {
   "display_name": "Python 3",
   "language": "python",
   "name": "python3"
  },
  "language_info": {
   "codemirror_mode": {
    "name": "ipython",
    "version": 3
   },
   "file_extension": ".py",
   "mimetype": "text/x-python",
   "name": "python",
   "nbconvert_exporter": "python",
   "pygments_lexer": "ipython3",
   "version": "3.7.0"
  }
 },
 "nbformat": 4,
 "nbformat_minor": 2
}
